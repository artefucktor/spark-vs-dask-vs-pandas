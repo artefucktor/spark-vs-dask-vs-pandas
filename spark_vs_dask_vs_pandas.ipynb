{
 "cells": [
  {
   "cell_type": "markdown",
   "id": "8132c985",
   "metadata": {},
   "source": [
    "Для теста используется датасет MTS ML Cup – 322млн.899435 строк – история активности пользователей в интернете\n",
    "\n",
    "[Скачать архив с датасетом](https://storage.yandexcloud.net/ds-ods/files/materials/124f46f0/competition_data_final_pqt.zip)\n",
    "\n"
   ]
  },
  {
   "cell_type": "code",
   "execution_count": 1,
   "id": "6921f9fe",
   "metadata": {},
   "outputs": [],
   "source": [
    "from pyspark.sql import SparkSession\n",
    "from pyspark.sql.functions import split\n",
    "import pandas as pd\n",
    "import polars as pl\n",
    "import dask.dataframe as dd"
   ]
  },
  {
   "cell_type": "code",
   "execution_count": 2,
   "id": "5ad2bdf0",
   "metadata": {},
   "outputs": [],
   "source": [
    "DATASET = '../mts/dataset/competition_data_final_pqt'"
   ]
  },
  {
   "cell_type": "markdown",
   "id": "6bafd7f5",
   "metadata": {},
   "source": [
    "# PYSPARK"
   ]
  },
  {
   "cell_type": "code",
   "execution_count": 3,
   "id": "566a6dc1",
   "metadata": {},
   "outputs": [
    {
     "name": "stderr",
     "output_type": "stream",
     "text": [
      "23/07/13 21:16:58 WARN Utils: Your hostname, MacBook-Pro-2.local resolves to a loopback address: 127.0.0.1; using 192.168.1.162 instead (on interface en0)\n",
      "23/07/13 21:16:58 WARN Utils: Set SPARK_LOCAL_IP if you need to bind to another address\n",
      "Setting default log level to \"WARN\".\n",
      "To adjust logging level use sc.setLogLevel(newLevel). For SparkR, use setLogLevel(newLevel).\n",
      "23/07/13 21:16:59 WARN NativeCodeLoader: Unable to load native-hadoop library for your platform... using builtin-java classes where applicable\n",
      "                                                                                \r"
     ]
    },
    {
     "name": "stdout",
     "output_type": "stream",
     "text": [
      "+--------------------------------+\n",
      "|url_parts                       |\n",
      "+--------------------------------+\n",
      "|[apple, com]                    |\n",
      "|[apple, com]                    |\n",
      "|[banners, adfox, ru]            |\n",
      "|[apple, com]                    |\n",
      "|[instagram, com]                |\n",
      "|[yastatic, net]                 |\n",
      "|[apple, com]                    |\n",
      "|[googleads, g, doubleclick, net]|\n",
      "|[relap, io]                     |\n",
      "|[yastatic, net]                 |\n",
      "|[zen, yandex, ru]               |\n",
      "|[apple, com]                    |\n",
      "|[avatars, mds, yandex, net]     |\n",
      "|[instagram, com]                |\n",
      "|[interesbook, com]              |\n",
      "|[ok, ru]                        |\n",
      "|[online, sberbank, ru]          |\n",
      "|[online, sberbank, ru]          |\n",
      "|[vk, com]                       |\n",
      "|[yandex, ru]                    |\n",
      "+--------------------------------+\n",
      "only showing top 20 rows\n",
      "\n"
     ]
    },
    {
     "name": "stderr",
     "output_type": "stream",
     "text": [
      "                                                                                \r"
     ]
    },
    {
     "name": "stdout",
     "output_type": "stream",
     "text": [
      "+-----------------+---------+\n",
      "|cpe_model_os_type|    count|\n",
      "+-----------------+---------+\n",
      "|              iOS|122764510|\n",
      "|        Apple iOS|  2275740|\n",
      "|          Android|197859185|\n",
      "+-----------------+---------+\n",
      "\n",
      "\n",
      "Total rows 322899435\n",
      "CPU times: user 21.1 ms, sys: 14.7 ms, total: 35.9 ms\n",
      "Wall time: 20.2 s\n"
     ]
    }
   ],
   "source": [
    "%%time\n",
    "spark = SparkSession.builder \\\n",
    "    .master('local[*]') \\\n",
    "    .appName('myAppName') \\\n",
    "    .config('spark.driver.memory','4g') \\\n",
    "    .config('spark.ui.port',4041) \\\n",
    "    .getOrCreate()\n",
    "spark.sparkContext.setLogLevel('FATAL')\n",
    "\n",
    "df = spark.read.parquet(DATASET)\n",
    "\n",
    "df.select(split(df.url_host,'\\.').alias('url_parts')).show(20,False)\n",
    "df.groupBy('cpe_model_os_type').count().show()\n",
    "\n",
    "print('\\nTotal rows',df.count())\n",
    "del(df)\n",
    "spark.stop()"
   ]
  },
  {
   "cell_type": "markdown",
   "id": "2f120738-6f89-4e73-9405-38ce0bd88ca3",
   "metadata": {},
   "source": [
    "# POLARS"
   ]
  },
  {
   "cell_type": "code",
   "execution_count": 4,
   "id": "d2bdf897-bc74-408f-ad47-df55b50807b3",
   "metadata": {},
   "outputs": [
    {
     "name": "stdout",
     "output_type": "stream",
     "text": [
      "shape: (20, 1)\n",
      "┌───────────────────────────────────┐\n",
      "│ url_host                          │\n",
      "│ ---                               │\n",
      "│ list[str]                         │\n",
      "╞═══════════════════════════════════╡\n",
      "│ [\"ad\", \"adriver\", \"ru\"]           │\n",
      "│ [\"apple\", \"com\"]                  │\n",
      "│ [\"avatars\", \"mds\", … \"net\"]       │\n",
      "│ [\"googleads\", \"g\", … \"net\"]       │\n",
      "│ …                                 │\n",
      "│ [\"googleads\", \"g\", … \"net\"]       │\n",
      "│ [\"icloud\", \"com\"]                 │\n",
      "│ [\"mail\", \"yandex\", \"ru\"]          │\n",
      "│ [\"syndication\", \"realsrv\", \"com\"… │\n",
      "└───────────────────────────────────┘\n"
     ]
    },
    {
     "name": "stderr",
     "output_type": "stream",
     "text": [
      "PARTITIONED DS\n"
     ]
    },
    {
     "name": "stdout",
     "output_type": "stream",
     "text": [
      "shape: (3, 2)\n",
      "┌───────────────────┬───────────┐\n",
      "│ cpe_model_os_type ┆ count     │\n",
      "│ ---               ┆ ---       │\n",
      "│ str               ┆ u32       │\n",
      "╞═══════════════════╪═══════════╡\n",
      "│ Android           ┆ 197859185 │\n",
      "│ iOS               ┆ 122764510 │\n",
      "│ Apple iOS         ┆ 2275740   │\n",
      "└───────────────────┴───────────┘\n",
      "CPU times: user 10.7 s, sys: 1.06 s, total: 11.8 s\n",
      "Wall time: 3.87 s\n"
     ]
    }
   ],
   "source": [
    "%%time\n",
    "df = pl.scan_parquet(f'{DATASET}/*.parquet')\n",
    "print(df.select(pl.col('url_host').str.split(by='.')).head(20).collect())\n",
    "print(df.groupby('cpe_model_os_type').count().collect())\n",
    "del(df)"
   ]
  },
  {
   "cell_type": "markdown",
   "id": "61352bb2",
   "metadata": {},
   "source": [
    "# DASK"
   ]
  },
  {
   "cell_type": "code",
   "execution_count": 5,
   "id": "84565486",
   "metadata": {},
   "outputs": [
    {
     "name": "stdout",
     "output_type": "stream",
     "text": [
      "0                    [ad, adriver, ru]\n",
      "1                         [apple, com]\n",
      "2          [avatars, mds, yandex, net]\n",
      "3     [googleads, g, doubleclick, net]\n",
      "4     [googleads, g, doubleclick, net]\n",
      "5                      [i, ytimg, com]\n",
      "6                        [icloud, com]\n",
      "7                       [m, avito, ru]\n",
      "8                          [relap, io]\n",
      "9               [sun9-5, userapi, com]\n",
      "10                    [ads, adfox, ru]\n",
      "11                        [apple, com]\n",
      "12                        [apple, com]\n",
      "13                [banners, adfox, ru]\n",
      "14    [googleads, g, doubleclick, net]\n",
      "15    [googleads, g, doubleclick, net]\n",
      "16    [googleads, g, doubleclick, net]\n",
      "17                       [icloud, com]\n",
      "18                  [mail, yandex, ru]\n",
      "19         [syndication, realsrv, com]\n",
      "Name: url_host, dtype: object\n",
      "CPU times: user 20.8 s, sys: 1.32 s, total: 22.1 s\n",
      "Wall time: 22.4 s\n"
     ]
    }
   ],
   "source": [
    "%%time\n",
    "df = dd.read_parquet(DATASET)\n",
    "print(df.url_host.str.split('\\.').head(20))\n",
    "# print(df.groupby('cpe_model_os_type').cpe_model_os_type.count().compute())\n",
    "del(df)"
   ]
  },
  {
   "cell_type": "markdown",
   "id": "63017ddb-20c9-4271-adbe-4d775a06fc1a",
   "metadata": {},
   "source": [
    "# PANDAS"
   ]
  },
  {
   "cell_type": "code",
   "execution_count": 6,
   "id": "464ded9a",
   "metadata": {},
   "outputs": [],
   "source": [
    "# %%time\n",
    "# df = pd.read_parquet(DATASET,columns=['url_host','cpe_model_os_type'])\n",
    "# print(df.url_host.str.split('\\.').head(20))\n",
    "# print(df.groupby('cpe_model_os_type').cpe_model_os_type.count())\n",
    "# del(df)"
   ]
  }
 ],
 "metadata": {
  "kernelspec": {
   "display_name": "Python 3 (ipykernel)",
   "language": "python",
   "name": "python3"
  },
  "language_info": {
   "codemirror_mode": {
    "name": "ipython",
    "version": 3
   },
   "file_extension": ".py",
   "mimetype": "text/x-python",
   "name": "python",
   "nbconvert_exporter": "python",
   "pygments_lexer": "ipython3",
   "version": "3.11.3"
  }
 },
 "nbformat": 4,
 "nbformat_minor": 5
}
